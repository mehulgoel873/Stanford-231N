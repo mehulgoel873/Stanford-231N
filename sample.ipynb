{
 "cells": [
  {
   "cell_type": "code",
   "execution_count": 2,
   "metadata": {},
   "outputs": [],
   "source": [
    "import numpy as np"
   ]
  },
  {
   "cell_type": "code",
   "execution_count": 17,
   "metadata": {},
   "outputs": [
    {
     "name": "stdout",
     "output_type": "stream",
     "text": [
      "[[ 1.  2.]\n",
      " [ 3.  4.]\n",
      " [10. 11.]\n",
      " [12. 13.]]\n",
      "[[3. 4. 7.]\n",
      " [5. 6. 8.]]\n",
      "[0 1 2 1]\n"
     ]
    }
   ],
   "source": [
    "X = np.array([[1, 2], [3, 4], [10, 11], [12, 13]], dtype=np.float64)\n",
    "W = np.array([[3, 4, 7], [5, 6, 8]], dtype=np.float64)\n",
    "y = np.array([0, 1, 2, 1], dtype=np.int64)\n",
    "print(X)\n",
    "print(W)\n",
    "print(y)\n",
    "\n"
   ]
  },
  {
   "cell_type": "code",
   "execution_count": 27,
   "metadata": {},
   "outputs": [
    {
     "name": "stdout",
     "output_type": "stream",
     "text": [
      "22.250239216357585\n",
      "[[-0.24998866 -3.74977222  3.99976088]\n",
      " [-0.49997732 -4.24954445  4.74952178]]\n"
     ]
    }
   ],
   "source": [
    "loss = 0.0\n",
    "dW = np.zeros_like(W)\n",
    "\n",
    "for i in range (X.shape[0]):\n",
    "    scores = X[i].dot(W)\n",
    "    scores = np.exp(scores)\n",
    "    sum = 0\n",
    "    for j in range(W.shape[1]):\n",
    "        sum += scores[j]\n",
    "    loss += -np.log(scores[y[i]]) + np.log(sum)\n",
    "\n",
    "    dW[:, y[i]] -= X[i]\n",
    "    for j in range(W.shape[1]):\n",
    "        dW[:, j] += ((1/sum) * (scores[j])) * X[i]\n",
    "\n",
    "\n",
    "\n",
    "loss /= X.shape[0]\n",
    "dW /= float(X.shape[0])\n",
    "\n",
    "# loss += reg * np.sum(W * W)\n",
    "# dW += 2 * reg * W\n",
    "\n",
    "print(loss)\n",
    "print(dW)"
   ]
  },
  {
   "cell_type": "code",
   "execution_count": 33,
   "metadata": {},
   "outputs": [
    {
     "ename": "ValueError",
     "evalue": "operands could not be broadcast together with shapes (4,3) (4,) ",
     "output_type": "error",
     "traceback": [
      "\u001b[0;31m---------------------------------------------------------------------------\u001b[0m",
      "\u001b[0;31mValueError\u001b[0m                                Traceback (most recent call last)",
      "Cell \u001b[0;32mIn[33], line 23\u001b[0m\n\u001b[1;32m     21\u001b[0m dscoresEXP \u001b[38;5;241m=\u001b[39m np\u001b[38;5;241m.\u001b[39mzeros((X\u001b[38;5;241m.\u001b[39mshape[\u001b[38;5;241m0\u001b[39m], W\u001b[38;5;241m.\u001b[39mshape[\u001b[38;5;241m1\u001b[39m]))\n\u001b[1;32m     22\u001b[0m dscoresEXP[np\u001b[38;5;241m.\u001b[39marange(\u001b[38;5;28mlen\u001b[39m(y)), y] \u001b[38;5;241m+\u001b[39m\u001b[38;5;241m=\u001b[39m dcorrect\n\u001b[0;32m---> 23\u001b[0m dscoresEXP \u001b[38;5;241m=\u001b[39m (\u001b[43mnp\u001b[49m\u001b[38;5;241;43m.\u001b[39;49m\u001b[43mones_like\u001b[49m\u001b[43m(\u001b[49m\u001b[43mdscoresEXP\u001b[49m\u001b[43m)\u001b[49m\u001b[43m \u001b[49m\u001b[38;5;241;43m*\u001b[39;49m\u001b[43m \u001b[49m\u001b[43mdsums\u001b[49m) \u001b[38;5;241m+\u001b[39m dscoresEXP\n\u001b[1;32m     26\u001b[0m dscores \u001b[38;5;241m=\u001b[39m scoresEXP \u001b[38;5;241m*\u001b[39m dscoresEXP\n\u001b[1;32m     27\u001b[0m dW \u001b[38;5;241m=\u001b[39m X\u001b[38;5;241m.\u001b[39mT \u001b[38;5;241m@\u001b[39m dscores\n",
      "\u001b[0;31mValueError\u001b[0m: operands could not be broadcast together with shapes (4,3) (4,) "
     ]
    }
   ],
   "source": [
    "loss = 0.0\n",
    "dW = np.zeros_like(W)\n",
    "scores = X @ W\n",
    "scoresEXP = np.exp(scores)\n",
    "sums = np.sum(scoresEXP, axis=1)\n",
    "correct = scoresEXP[np.arange(len(y)), y]\n",
    "correct_log = -np.log(correct)\n",
    "sums_log = np.log(sums)\n",
    "loss += np.sum(correct_log + sums_log)\n",
    "loss /= X.shape[0]\n",
    "# loss += reg * np.sum(W * W)\n",
    "\n",
    "dloss = 1\n",
    "dloss /= X.shape[0]\n",
    "dcorrect_log = dloss * np.ones(X.shape[0])\n",
    "dsums_log = dloss * np.ones(X.shape[0])\n",
    "\n",
    "dcorrect = (-1/correct)  * dcorrect_log\n",
    "dsums = (1/sums) * dsums_log\n",
    "\n",
    "dscoresEXP = np.zeros((X.shape[0], W.shape[1]))\n",
    "dscoresEXP[np.arange(len(y)), y] += dcorrect\n",
    "dscoresEXP = (np.ones_like(dscoresEXP) * dsums[:, np.newaxis]) + dscoresEXP\n",
    "\n",
    "\n",
    "dscores = scoresEXP * dscoresEXP\n",
    "dW = X.T @ dscores\n",
    "\n",
    "\n",
    "\n",
    "\n",
    "\n",
    "print(loss)\n",
    "print(dW)"
   ]
  },
  {
   "cell_type": "code",
   "execution_count": 81,
   "metadata": {},
   "outputs": [
    {
     "name": "stdout",
     "output_type": "stream",
     "text": [
      "3.9000000000000004\n",
      "10.9\n",
      "-5.699999999999999\n",
      "18.0\n"
     ]
    },
    {
     "data": {
      "text/plain": [
       "(16.4,\n",
       " array([[-1., -1.,  2.],\n",
       "        [-2., -1.,  3.]]))"
      ]
     },
     "execution_count": 81,
     "metadata": {},
     "output_type": "execute_result"
    }
   ],
   "source": [
    "dW = np.zeros(W.shape)\n",
    "y=[0, 1]\n",
    "\n",
    "loss = 0.0\n",
    "for i in range(2):\n",
    "    scores = X[i].dot(W)\n",
    "    correct_class_score = scores[y[i]]\n",
    "    for j in range(3):\n",
    "        if j == y[i]:\n",
    "            continue\n",
    "        margin = scores[j] - correct_class_score + 1\n",
    "        if margin > 0:\n",
    "            loss += margin\n",
    "            dW[:, j] += X[i]\n",
    "            dW[:, y[i]] -= X[i]\n",
    "        print(margin)\n",
    "loss /= 2\n",
    "dW /= 2\n",
    "\n",
    "loss, dW"
   ]
  },
  {
   "cell_type": "code",
   "execution_count": 99,
   "metadata": {},
   "outputs": [
    {
     "name": "stdout",
     "output_type": "stream",
     "text": [
      "[[13.1 16.  23. ]\n",
      " [29.3 36.  53. ]]\n"
     ]
    },
    {
     "data": {
      "text/plain": [
       "array([2, 2])"
      ]
     },
     "execution_count": 99,
     "metadata": {},
     "output_type": "execute_result"
    }
   ],
   "source": [
    "scores= X @ W\n",
    "print(scores)\n",
    "np.argmax(scores, axis=1)"
   ]
  }
 ],
 "metadata": {
  "kernelspec": {
   "display_name": ".venv",
   "language": "python",
   "name": "python3"
  },
  "language_info": {
   "codemirror_mode": {
    "name": "ipython",
    "version": 3
   },
   "file_extension": ".py",
   "mimetype": "text/x-python",
   "name": "python",
   "nbconvert_exporter": "python",
   "pygments_lexer": "ipython3",
   "version": "3.12.3"
  }
 },
 "nbformat": 4,
 "nbformat_minor": 2
}
